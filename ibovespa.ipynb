{
 "cells": [
  {
   "cell_type": "code",
   "execution_count": 1,
   "metadata": {},
   "outputs": [
    {
     "ename": "",
     "evalue": "",
     "output_type": "error",
     "traceback": [
      "\u001b[1;31mFailed to start the Kernel. \n",
      "\u001b[1;31mUnable to start Kernel '.venv (Python 3.12.2)' due to a timeout waiting for the ports to get used. \n",
      "\u001b[1;31mView Jupyter <a href='command:jupyter.viewOutput'>log</a> for further details."
     ]
    }
   ],
   "source": [
    "import pandas as pd\n",
    "import matplotlib.pyplot as plt\n",
    "\n",
    "\n",
    "df_top_10_ibov_mai_ago = pd.read_csv('top_10_ibov_mai_ago_2023.csv')\n",
    "\n",
    "\n",
    "df_top_10_ibov_mai_ago.head()\n",
    "df_top_10_ibov_mai_ago.info()\n",
    "df_top_10_ibov_mai_ago.describe()"
   ]
  },
  {
   "cell_type": "code",
   "execution_count": 3,
   "metadata": {},
   "outputs": [],
   "source": [
    "df_top_10_ibov_mai_ago['Date'] = pd.to_datetime(df_top_10_ibov_mai_ago['Date'], format='%Y-%m-%d')"
   ]
  },
  {
   "cell_type": "code",
   "execution_count": null,
   "metadata": {},
   "outputs": [],
   "source": [
    "df_top_10_ibov_mai_ago = df_top_10_ibov_mai_ago.set_index('Date', drop=True)\n",
    "df_top_10_ibov_mai_ago.head()"
   ]
  },
  {
   "cell_type": "code",
   "execution_count": null,
   "metadata": {},
   "outputs": [],
   "source": [
    "df_top_10_ibov_mai_ago.describe()"
   ]
  },
  {
   "cell_type": "code",
   "execution_count": null,
   "metadata": {},
   "outputs": [],
   "source": [
    "df_top_10_ibov_mai_ago.plot()"
   ]
  },
  {
   "cell_type": "markdown",
   "metadata": {},
   "source": [
    "## Plot\n",
    "\n",
    "### Mais simples com matplotlib"
   ]
  },
  {
   "cell_type": "code",
   "execution_count": null,
   "metadata": {},
   "outputs": [],
   "source": [
    "import matplotlib.pyplot as plt\n",
    "\n",
    "df_top_10_ibov_mai_ago = pd.read_csv('top_10_ibov_mai_ago_2023.csv')\n",
    "\n",
    "plt.style.use('dark_background')\n",
    "\n",
    "df_top_10_ibov_mai_ago.plot(figsize=(12,9))\n",
    "\n",
    "plt.title('Ações IVOBESPA - MAI-AGOR -2023', color='dimgray')\n",
    "plt.box(False)\n",
    "\n",
    "plt.show()"
   ]
  },
  {
   "cell_type": "markdown",
   "metadata": {},
   "source": [
    "# POO"
   ]
  },
  {
   "cell_type": "code",
   "execution_count": null,
   "metadata": {},
   "outputs": [],
   "source": [
    "import matplotlib.pyplot as plt\n",
    "import pandas as pd \n",
    "\n",
    "df_top_10_ibov_mai_ago = pd.read_csv('top_10_ibov_mai_ago_2023.csv')\n",
    "\n",
    "fig, ax = plt.subplots(figsize=(12, 9))\n",
    "\n",
    "df_top_10_ibov_mai_ago.plot(ax=ax)\n",
    "\n",
    "ax.set_title('Top 10 - IBOV')\n",
    "\n",
    "\n",
    "plt.show()"
   ]
  },
  {
   "cell_type": "markdown",
   "metadata": {},
   "source": [
    "## Sub Plots"
   ]
  },
  {
   "cell_type": "code",
   "execution_count": null,
   "metadata": {},
   "outputs": [],
   "source": [
    "import matplotlib.pyplot as plt\n",
    "import pandas as pd \n",
    "\n",
    "df_top_10_ibov_mai_ago = pd.read_csv('top_10_ibov_mai_ago_2023.csv')\n",
    "\n",
    "fig, ax = plt.subplots(figsize=(12, 9))\n",
    "\n",
    "df_top_10_ibov_mai_ago.plot(ax=ax, subplots=True)"
   ]
  },
  {
   "cell_type": "code",
   "execution_count": null,
   "metadata": {},
   "outputs": [],
   "source": [
    "import matplotlib.pyplot as plt\n",
    "import pandas as pd \n",
    "\n",
    "df_top_10_ibov_mai_ago = pd.read_csv('top_10_ibov_mai_ago_2023.csv')\n",
    "\n",
    "fig, ax = plt.subplots(figsize=(22, 10),)\n",
    "\n",
    "plt.style.use('bmh')\n",
    "\n",
    "df_top_10_ibov_mai_ago.plot( title='TOP 10 IBOV', ax=ax, subplots=True, layout=(5, 2))\n",
    "\n",
    "plt.grid(False)\n",
    "plt.show()"
   ]
  },
  {
   "cell_type": "code",
   "execution_count": null,
   "metadata": {},
   "outputs": [],
   "source": [
    "df_top_10_ibov_mai_ago.info()"
   ]
  },
  {
   "cell_type": "code",
   "execution_count": null,
   "metadata": {},
   "outputs": [],
   "source": [
    "import matplotlib.pyplot as plt\n",
    "import pandas as pd \n",
    "\n",
    "df_top_10_ibov_mai_ago = pd.read_csv('top_10_ibov_mai_ago_2023.csv')\n",
    "\n",
    "\n",
    "df_top_10_ibov_mai_ago = pd.read_csv('top_10_ibov_mai_ago_2023.csv')\n",
    "df_top_10_ibov_mai_ago['Date'] = pd.to_datetime(df_top_10_ibov_mai_ago['Date'], format='%Y-%m-%d')\n",
    "df_top_10_ibov_mai_ago = df_top_10_ibov_mai_ago.set_index('Date', drop=True)\n",
    "\n",
    "\n",
    "plt.style.use('seaborn-v0_8-dark-palette')\n",
    "\n",
    "fig, ax = plt.subplots(figsize=(14,7))\n",
    "\n",
    "ax.plot(df_top_10_ibov_mai_ago.index, df_top_10_ibov_mai_ago['BBDC4'], label='BBDC4')\n",
    "ax.plot(df_top_10_ibov_mai_ago.index, df_top_10_ibov_mai_ago['ITUB4'], label='ITUB4')\n",
    "ax.plot(df_top_10_ibov_mai_ago.index, df_top_10_ibov_mai_ago['BBAS3'], label='BBAS3')\n",
    "\n",
    "ax.set_ylabel('Valor em R$')\n",
    "\n",
    "ax.legend()\n",
    "\n",
    "plt.show()\n",
    "\n"
   ]
  },
  {
   "cell_type": "code",
   "execution_count": null,
   "metadata": {},
   "outputs": [],
   "source": [
    "variacao_diaria = df_top_10_ibov_mai_ago.pct_change()\n",
    "variacao_diaria.head()"
   ]
  },
  {
   "cell_type": "code",
   "execution_count": null,
   "metadata": {},
   "outputs": [],
   "source": [
    "fig, ax = plt.subplots(figsize=(14,7))\n",
    "\n",
    "ax.plot(variacao_diaria.index, variacao_diaria['BBDC4'], label='BBDC4')\n",
    "ax.plot(variacao_diaria.index, variacao_diaria['ITUB4'], label='ITUB4')\n",
    "ax.plot(variacao_diaria.index, variacao_diaria['BBAS3'], label='BBAS3')\n",
    "\n",
    "ax.set_title('Comparando a variação diária dos bancos, Top 10 IBOV')\n",
    "\n",
    "ax.set_ylabel('Variação de % / dia')\n",
    "\n",
    "ax.legend()\n",
    "\n",
    "plt.show()"
   ]
  },
  {
   "cell_type": "code",
   "execution_count": null,
   "metadata": {},
   "outputs": [],
   "source": [
    "fig, axs = plt.subplots(nrows=3, ncols=1)\n",
    "\n",
    "\n",
    "axs[0].plot(variacao_diaria.index, variacao_diaria['BBDC4'], label='BBDC4', color='C10')\n",
    "axs[0].legend()\n",
    "axs[1].plot(variacao_diaria.index, variacao_diaria['ITUB4'], label='ITUB4', color='C11')\n",
    "axs[1].legend()\n",
    "axs[2].plot(variacao_diaria.index, variacao_diaria['BBAS3'], label='BBAS3', color='C12')\n",
    "axs[2].legend()\n",
    "\n",
    "\n",
    "plt.show()"
   ]
  },
  {
   "cell_type": "code",
   "execution_count": null,
   "metadata": {},
   "outputs": [],
   "source": []
  },
  {
   "cell_type": "code",
   "execution_count": null,
   "metadata": {},
   "outputs": [],
   "source": [
    "fig, axs = plt.subplots(nrows=3, ncols=1, figsize=(10, 10), sharex=True)\n",
    "\n",
    "bancos = ['BBDC4', 'ITUB4', 'BBAS3']\n",
    "\n",
    "for i, banco in enumerate(bancos):\n",
    "    axs[i].plot(variacao_diaria.index, variacao_diaria[banco], label=banco, color=f'C{i}')\n",
    "    axs[i].legend()\n",
    "\n",
    "fig.suptitle('Comparando a varias diária independente')\n",
    "fig.supylabel('Variação percentual')\n",
    "\n",
    "plt.show()"
   ]
  },
  {
   "cell_type": "code",
   "execution_count": null,
   "metadata": {},
   "outputs": [],
   "source": [
    "fig, axs = plt.subplots(nrows=1, ncols=3, figsize=(12,8))\n",
    "\n",
    "axs[0].scatter('BBDC4', 'BBAS3', data=df_top_10_ibov_mai_ago, s=3)\n",
    "axs[0].set_xlabel('BBDC4')\n",
    "axs[0].set_ylabel('BBAS3')\n",
    "axs[0].set_title('BBAS3 x BBDC4')\n",
    "\n",
    "\n",
    "axs[1].scatter('BBDC4', 'ITUB4', data=df_top_10_ibov_mai_ago, s=3)\n",
    "axs[1].set_xlabel('BBDC4')\n",
    "axs[1].set_ylabel('ITUB4')\n",
    "axs[1].set_title('ITUB4 x BBDC4')\n",
    "\n",
    "\n",
    "axs[2].scatter('BBAS3', 'ITUB4', data=df_top_10_ibov_mai_ago, s=3)\n",
    "axs[2].set_xlabel('BBAS3')\n",
    "axs[2].set_ylabel('ITUB4')\n",
    "axs[2].set_title('ITUB4 x BBAS3')\n",
    "\n",
    "fig.suptitle('Correlação dos bancos')"
   ]
  },
  {
   "cell_type": "markdown",
   "metadata": {},
   "source": [
    "## Iterateble"
   ]
  },
  {
   "cell_type": "code",
   "execution_count": null,
   "metadata": {},
   "outputs": [],
   "source": [
    "from itertools import combinations\n",
    "\n",
    "fig, axs = plt.subplots(nrows=1, ncols=3, figsize=(12,8))\n",
    "\n",
    "pares_bancos = list(combinations(bancos, 2))\n",
    "print(pares_bancos)\n",
    "\n",
    "for i, par in enumerate(pares_bancos):\n",
    "    axs[i].scatter(par[0], par[1], data=df_top_10_ibov_mai_ago, color=f'C{i}')\n",
    "    axs[i].set_xlabel(par[0])\n",
    "    axs[i].set_ylabel(par[1])\n",
    "    axs[i].set_title(f'{par[0]} x {par[1]}')\n",
    "\n",
    "\n",
    "fig.suptitle('Correlação dos bancos')\n",
    "\n",
    "plt.show()"
   ]
  },
  {
   "cell_type": "code",
   "execution_count": null,
   "metadata": {},
   "outputs": [],
   "source": [
    "from itertools import combinations\n",
    "\n",
    "fig, axs = plt.subplots(nrows=3, ncols=1, figsize=(12,8))\n",
    "\n",
    "pares_bancos = list(combinations(bancos, 2))\n",
    "print(pares_bancos)\n",
    "\n",
    "for i, par in enumerate(pares_bancos):\n",
    "    axs[i].scatter(par[0], par[1], data=df_top_10_ibov_mai_ago, color=f'C{i}')\n",
    "    axs[i].set_xlabel(par[0])\n",
    "    axs[i].set_ylabel(par[1])\n",
    "    axs[i].set_title(f'{par[0]} x {par[1]}')\n",
    "\n",
    "\n",
    "fig.suptitle('Correlação dos bancos')\n",
    "\n",
    "plt.show()"
   ]
  },
  {
   "cell_type": "code",
   "execution_count": null,
   "metadata": {},
   "outputs": [],
   "source": [
    "df_top_10_ibov_mai_ago.corr()"
   ]
  },
  {
   "cell_type": "markdown",
   "metadata": {},
   "source": [
    "### Cores nas células \n",
    "\n",
    "#### roxo -> verde\n",
    "\n",
    "##### ['PiYG', 'PRGn', 'BrBG', 'PuOr', 'RdGy', 'RdBu', 'RdYlBu','RdYlGn', 'Spectral', 'coolwarm', 'bwr', 'seismic']\n",
    "                    "
   ]
  },
  {
   "cell_type": "code",
   "execution_count": null,
   "metadata": {},
   "outputs": [],
   "source": [
    "df_top_10_ibov_mai_ago.corr().style.background_gradient(cmap='PRGn')"
   ]
  },
  {
   "cell_type": "markdown",
   "metadata": {},
   "source": [
    "### Reverso \n",
    "##### \n",
    "##### ['PiYG', 'PRGn', 'BrBG', 'PuOr', 'RdGy', 'RdBu', 'RdYlBu','RdYlGn', 'Spectral', 'coolwarm', 'bwr', 'seismic']  _r"
   ]
  },
  {
   "cell_type": "code",
   "execution_count": null,
   "metadata": {},
   "outputs": [],
   "source": [
    "df_top_10_ibov_mai_ago.corr().style.format(precision=3).background_gradient(cmap='PRGn_r', vmin=-1, vmax=1)"
   ]
  },
  {
   "cell_type": "code",
   "execution_count": null,
   "metadata": {},
   "outputs": [],
   "source": [
    "df_top_10_ibov_mai_ago[bancos].corr().style.format(precision=3).background_gradient(cmap='PRGn_r', vmin=-1, vmax=1)"
   ]
  },
  {
   "cell_type": "code",
   "execution_count": null,
   "metadata": {},
   "outputs": [],
   "source": [
    "df_top_10_ibov_mai_ago.loc[:, df_top_10_ibov_mai_ago.columns.isin(bancos)]"
   ]
  },
  {
   "cell_type": "code",
   "execution_count": null,
   "metadata": {},
   "outputs": [],
   "source": [
    "from pandas.plotting import scatter_matrix\n",
    "\n",
    "scatter_matrix(df_top_10_ibov_mai_ago, figsize=(16,8));"
   ]
  },
  {
   "cell_type": "markdown",
   "metadata": {},
   "source": [
    "#### Histograma"
   ]
  },
  {
   "cell_type": "code",
   "execution_count": null,
   "metadata": {},
   "outputs": [],
   "source": [
    "df_top_10_ibov_mai_ago['VALE3'].value_counts(bins=10).sort_index()"
   ]
  },
  {
   "cell_type": "code",
   "execution_count": null,
   "metadata": {},
   "outputs": [],
   "source": [
    "scatter_matrix(df_top_10_ibov_mai_ago, figsize=(12,12), hist_kwds={'bins': 5, 'edgecolor': 'black'});"
   ]
  }
 ],
 "metadata": {
  "kernelspec": {
   "display_name": ".venv",
   "language": "python",
   "name": "python3"
  },
  "language_info": {
   "codemirror_mode": {
    "name": "ipython",
    "version": 3
   },
   "file_extension": ".py",
   "mimetype": "text/x-python",
   "name": "python",
   "nbconvert_exporter": "python",
   "pygments_lexer": "ipython3",
   "version": "3.12.2"
  }
 },
 "nbformat": 4,
 "nbformat_minor": 2
}
